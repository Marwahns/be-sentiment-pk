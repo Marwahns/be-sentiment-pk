{
 "cells": [
  {
   "cell_type": "code",
   "execution_count": 1,
   "metadata": {},
   "outputs": [
    {
     "name": "stderr",
     "output_type": "stream",
     "text": [
      "[nltk_data] Downloading package punkt to\n",
      "[nltk_data]     C:\\Users\\ASUS\\AppData\\Roaming\\nltk_data...\n",
      "[nltk_data]   Package punkt is already up-to-date!\n"
     ]
    },
    {
     "data": {
      "text/plain": [
       "True"
      ]
     },
     "execution_count": 1,
     "metadata": {},
     "output_type": "execute_result"
    }
   ],
   "source": [
    "import pickle\n",
    "import re\n",
    "import numpy as np\n",
    "import pandas as pd\n",
    "\n",
    "from Sastrawi.Stemmer.StemmerFactory import StemmerFactory\n",
    "from Sastrawi.StopWordRemover.StopWordRemoverFactory import StopWordRemoverFactory, StopWordRemover, ArrayDictionary\n",
    "\n",
    "from mpstemmer import MPStemmer\n",
    "\n",
    "import nltk\n",
    "from nltk.corpus import stopwords\n",
    "nltk.download('punkt')"
   ]
  },
  {
   "cell_type": "code",
   "execution_count": 2,
   "metadata": {},
   "outputs": [],
   "source": [
    "from sklearn.preprocessing import OneHotEncoder\n",
    "from sklearn.model_selection import train_test_split\n",
    "from sklearn.metrics import confusion_matrix, classification_report\n",
    "\n",
    "from tensorflow.keras.preprocessing.text import Tokenizer\n",
    "from tensorflow.keras.preprocessing.sequence import pad_sequences\n",
    "from tensorflow.keras.callbacks import ModelCheckpoint, EarlyStopping\n",
    "from tensorflow.keras.layers import Embedding, Bidirectional, LSTM, Dense\n",
    "from tensorflow.keras.models import Sequential, load_model\n",
    "from tensorflow.keras.optimizers import Adam"
   ]
  },
  {
   "cell_type": "code",
   "execution_count": 3,
   "metadata": {},
   "outputs": [],
   "source": [
    "stopwords_ind = stopwords.words('indonesian')\n",
    "\n",
    "factory = StemmerFactory()\n",
    "stemmer = factory.create_stemmer()\n",
    "lemma = MPStemmer()"
   ]
  },
  {
   "cell_type": "code",
   "execution_count": 46,
   "metadata": {},
   "outputs": [],
   "source": [
    "key_norm = pd.read_csv('../be-sentiment-pk/corpus/colloquial-indonesian-lexicon.csv')"
   ]
  },
  {
   "cell_type": "markdown",
   "metadata": {},
   "source": [
    "#### **Combine Dataset**"
   ]
  },
  {
   "cell_type": "code",
   "execution_count": 275,
   "metadata": {},
   "outputs": [],
   "source": [
    "df_smsa = pd.read_csv('../be-sentiment-pk/datasets/ori/indonlu_smsa.csv')"
   ]
  },
  {
   "cell_type": "code",
   "execution_count": 283,
   "metadata": {},
   "outputs": [],
   "source": [
    "df_synthesized = pd.read_excel('../be-sentiment-pk/datasets/synthesized/synthesized_waste_sentiment.xlsx')"
   ]
  },
  {
   "cell_type": "code",
   "execution_count": 276,
   "metadata": {},
   "outputs": [
    {
     "data": {
      "text/plain": [
       "81"
      ]
     },
     "execution_count": 276,
     "metadata": {},
     "output_type": "execute_result"
    }
   ],
   "source": [
    "df_smsa.duplicated().sum()"
   ]
  },
  {
   "cell_type": "code",
   "execution_count": 279,
   "metadata": {},
   "outputs": [],
   "source": [
    "df_smsa.drop_duplicates(inplace=True)"
   ]
  },
  {
   "cell_type": "code",
   "execution_count": 280,
   "metadata": {},
   "outputs": [
    {
     "data": {
      "text/plain": [
       "0"
      ]
     },
     "execution_count": 280,
     "metadata": {},
     "output_type": "execute_result"
    }
   ],
   "source": [
    "df_smsa.duplicated().sum()"
   ]
  },
  {
   "cell_type": "code",
   "execution_count": 13,
   "metadata": {},
   "outputs": [
    {
     "data": {
      "text/plain": [
       "0"
      ]
     },
     "execution_count": 13,
     "metadata": {},
     "output_type": "execute_result"
    }
   ],
   "source": [
    "df_synthesized.duplicated().sum()"
   ]
  },
  {
   "cell_type": "code",
   "execution_count": 15,
   "metadata": {},
   "outputs": [
    {
     "name": "stdout",
     "output_type": "stream",
     "text": [
      "(12679, 2)\n",
      "(12679, 2)\n"
     ]
    }
   ],
   "source": [
    "print(df_smsa.shape)\n",
    "print(df_synthesized.shape)"
   ]
  },
  {
   "cell_type": "code",
   "execution_count": 18,
   "metadata": {},
   "outputs": [
    {
     "data": {
      "text/html": [
       "<div>\n",
       "<style scoped>\n",
       "    .dataframe tbody tr th:only-of-type {\n",
       "        vertical-align: middle;\n",
       "    }\n",
       "\n",
       "    .dataframe tbody tr th {\n",
       "        vertical-align: top;\n",
       "    }\n",
       "\n",
       "    .dataframe thead th {\n",
       "        text-align: right;\n",
       "    }\n",
       "</style>\n",
       "<table border=\"1\" class=\"dataframe\">\n",
       "  <thead>\n",
       "    <tr style=\"text-align: right;\">\n",
       "      <th></th>\n",
       "      <th>text</th>\n",
       "      <th>label</th>\n",
       "    </tr>\n",
       "  </thead>\n",
       "  <tbody>\n",
       "    <tr>\n",
       "      <th>0</th>\n",
       "      <td>warung ini dimiliki oleh pengusaha pabrik tahu...</td>\n",
       "      <td>positive</td>\n",
       "    </tr>\n",
       "    <tr>\n",
       "      <th>1</th>\n",
       "      <td>mohon ulama lurus dan k212 mmbri hujjah partai...</td>\n",
       "      <td>neutral</td>\n",
       "    </tr>\n",
       "    <tr>\n",
       "      <th>2</th>\n",
       "      <td>lokasi strategis di jalan sumatera bandung . t...</td>\n",
       "      <td>positive</td>\n",
       "    </tr>\n",
       "    <tr>\n",
       "      <th>3</th>\n",
       "      <td>betapa bahagia nya diri ini saat unboxing pake...</td>\n",
       "      <td>positive</td>\n",
       "    </tr>\n",
       "    <tr>\n",
       "      <th>4</th>\n",
       "      <td>duh . jadi mahasiswa jangan sombong dong . kas...</td>\n",
       "      <td>negative</td>\n",
       "    </tr>\n",
       "  </tbody>\n",
       "</table>\n",
       "</div>"
      ],
      "text/plain": [
       "                                                text     label\n",
       "0  warung ini dimiliki oleh pengusaha pabrik tahu...  positive\n",
       "1  mohon ulama lurus dan k212 mmbri hujjah partai...   neutral\n",
       "2  lokasi strategis di jalan sumatera bandung . t...  positive\n",
       "3  betapa bahagia nya diri ini saat unboxing pake...  positive\n",
       "4  duh . jadi mahasiswa jangan sombong dong . kas...  negative"
      ]
     },
     "execution_count": 18,
     "metadata": {},
     "output_type": "execute_result"
    }
   ],
   "source": [
    "# Menggabungkan kedua DataFrame\n",
    "df_combined = pd.concat([df_smsa, df_synthesized], ignore_index=True)"
   ]
  },
  {
   "cell_type": "code",
   "execution_count": 19,
   "metadata": {},
   "outputs": [],
   "source": [
    "df_combined.to_csv('../be-sentiment-pk/datasets/combined/waste_sentiment.csv', index=False)"
   ]
  },
  {
   "cell_type": "markdown",
   "metadata": {},
   "source": [
    "#### **Preprocessing**"
   ]
  },
  {
   "cell_type": "code",
   "execution_count": 5,
   "metadata": {},
   "outputs": [],
   "source": [
    "df = pd.read_csv('../be-sentiment-pk/datasets/combined/waste_sentiment.csv')"
   ]
  },
  {
   "cell_type": "code",
   "execution_count": 45,
   "metadata": {},
   "outputs": [],
   "source": [
    "def casefolding(string):\n",
    "    string = string.lower()\n",
    "    string = re.sub(r'https?://\\S+|www\\.\\S+', '', string) # remove URLs\n",
    "    string = re.sub(r\"[-()\\\"#/@;:<>{}`+=~|.!?,]\", '', string) # remove punctuations and special characters\n",
    "    # string = re.sub(r'[^\\w\\s]','', string) # remove tanda baca\n",
    "    string = re.sub(r\"[^A-Za-z0-9(),!?\\'\\-`]\", \" \", string)\n",
    "    string = re.sub(r\"\\'s\", \" \\'s\", string)\n",
    "    string = re.sub(r\"\\'ve\", \" \\'ve\", string)\n",
    "    string = re.sub(r\"n\\'t\", \" n\\'t\", string)\n",
    "    # Menghapus enter\n",
    "    string = re.sub(r\"\\n\", \"\", string)\n",
    "\n",
    "    # Membersihkan elemen yang tidak perlu, seperti menghapus spasi 2\n",
    "    string = re.sub(r\"\\'re\", \" \\'re\", string)\n",
    "\n",
    "    # Mengecek digit atau bukan\n",
    "    string = re.sub(r\"\\'d\", \" \\'d\", string)\n",
    "\n",
    "    # Mengecek long atau bukan\n",
    "    string = re.sub(r\"\\'ll\", \" \\'ll\", string)\n",
    "    string = re.sub(r\",\", \" , \", string)\n",
    "    string = re.sub(r\"!\", \" ! \", string)\n",
    "    string = re.sub(r\"\\(\", \" \\( \", string)\n",
    "    string = re.sub(r\"\\)\", \" \\) \", string)\n",
    "    string = re.sub(r\"\\?\", \" \\? \", string)\n",
    "    string = re.sub(r\"\\s{2,}\", \" \", string)\n",
    "    string = string.strip()\n",
    "    # Menghilangkan imbuhan\n",
    "    \n",
    "    return string"
   ]
  },
  {
   "cell_type": "code",
   "execution_count": 47,
   "metadata": {},
   "outputs": [],
   "source": [
    "def text_normalize(string):\n",
    "    words = string.split()\n",
    "    normalized_text = ' '.join([key_norm[key_norm['slang'] == word]['formal'].values[0] if (key_norm['slang'] == word).any() else word for word in words])\n",
    "    return normalized_text.lower()"
   ]
  },
  {
   "cell_type": "code",
   "execution_count": 131,
   "metadata": {},
   "outputs": [],
   "source": [
    "# Stopword remover setup\n",
    "stop_words = StopWordRemoverFactory().get_stop_words()\n",
    "new_array = ArrayDictionary(stop_words)\n",
    "stop_words_remover = StopWordRemover(new_array)\n",
    "\n",
    "def remove_stopwords(text):\n",
    "    return stop_words_remover.remove(text)"
   ]
  },
  {
   "cell_type": "code",
   "execution_count": 132,
   "metadata": {},
   "outputs": [],
   "source": [
    "def stemming(text):\n",
    "    words = text.split()\n",
    "    stemmed_words = [stemmer.stem(word) for word in words]\n",
    "    return ' '.join(stemmed_words)"
   ]
  },
  {
   "cell_type": "code",
   "execution_count": 133,
   "metadata": {},
   "outputs": [],
   "source": [
    "def lemmatization(text):\n",
    "    return lemma.stem(text)"
   ]
  },
  {
   "cell_type": "code",
   "execution_count": 11,
   "metadata": {},
   "outputs": [],
   "source": [
    "df['cleaned_text'] = df['text'].apply(lambda x: casefolding(x))"
   ]
  },
  {
   "cell_type": "code",
   "execution_count": 12,
   "metadata": {},
   "outputs": [],
   "source": [
    "df['cleaned_text'] = df['cleaned_text'].apply(lambda x: text_normalize(x))"
   ]
  },
  {
   "cell_type": "code",
   "execution_count": 13,
   "metadata": {},
   "outputs": [],
   "source": [
    "df['cleaned_text'] = df['cleaned_text'].apply(lambda x: remove_stopwords(x))"
   ]
  },
  {
   "cell_type": "code",
   "execution_count": 14,
   "metadata": {},
   "outputs": [],
   "source": [
    "df['cleaned_text'] = df['cleaned_text'].apply(stemming)"
   ]
  },
  {
   "cell_type": "code",
   "execution_count": 15,
   "metadata": {},
   "outputs": [],
   "source": [
    "df['preprocessed_text'] = df['cleaned_text'].apply(lemmatization)"
   ]
  },
  {
   "cell_type": "code",
   "execution_count": 16,
   "metadata": {},
   "outputs": [],
   "source": [
    "df.to_csv('../be-sentiment-pk/datasets/preprocessed/waste_sentiment_cleaned.csv', index=False)"
   ]
  },
  {
   "cell_type": "code",
   "execution_count": 134,
   "metadata": {},
   "outputs": [],
   "source": [
    "df = pd.read_csv('../be-sentiment-pk/datasets/preprocessed/waste_sentiment_cleaned.csv')"
   ]
  },
  {
   "cell_type": "code",
   "execution_count": 3,
   "metadata": {},
   "outputs": [],
   "source": [
    "df = pd.read_csv('../be-sentiment-pk/datasets/synthesized/synthesized_waste_sentiment_cleaned.csv')"
   ]
  },
  {
   "cell_type": "code",
   "execution_count": 4,
   "metadata": {},
   "outputs": [],
   "source": [
    "df = df.drop(['text', 'cleaned_text'], axis=1)"
   ]
  },
  {
   "cell_type": "code",
   "execution_count": 5,
   "metadata": {},
   "outputs": [],
   "source": [
    "sentiments = df[['label']]\n",
    "\n",
    "# Menginisialisasi dan menerapkan OneHotEncoder\n",
    "encoder = OneHotEncoder(sparse_output=False)\n",
    "encoded_sentiments = encoder.fit_transform(sentiments)"
   ]
  },
  {
   "cell_type": "code",
   "execution_count": 6,
   "metadata": {},
   "outputs": [
    {
     "name": "stdout",
     "output_type": "stream",
     "text": [
      "[[0. 0. 1.]\n",
      " [0. 1. 0.]\n",
      " [0. 0. 1.]\n",
      " ...\n",
      " [1. 0. 0.]\n",
      " [1. 0. 0.]\n",
      " [0. 0. 1.]]\n"
     ]
    }
   ],
   "source": [
    "print(encoded_sentiments)"
   ]
  },
  {
   "cell_type": "code",
   "execution_count": 19,
   "metadata": {},
   "outputs": [
    {
     "name": "stdout",
     "output_type": "stream",
     "text": [
      "label                                                          neutral\n",
      "preprocessed_text    perlu ada koordinasi lebih baik tugas bersih m...\n",
      "negative                                                           0.0\n",
      "neutral                                                            1.0\n",
      "positive                                                           0.0\n",
      "Name: 1, dtype: object\n"
     ]
    }
   ],
   "source": [
    "encoded_df = pd.DataFrame(encoded_sentiments, columns=encoder.categories_[0])\n",
    "\n",
    "# Concatenate the encoded DataFrame with the original DataFrame\n",
    "df_encoded = pd.concat([df, encoded_df], axis=1)\n",
    "\n",
    "# Display the DataFrame with encoded sentiments\n",
    "print(df_encoded.iloc[1])"
   ]
  },
  {
   "cell_type": "code",
   "execution_count": 7,
   "metadata": {},
   "outputs": [
    {
     "name": "stdout",
     "output_type": "stream",
     "text": [
      "[[  0   0   0 ...   1  18 129]\n",
      " [  0   0   0 ...   3   1  15]\n",
      " [  0   0   0 ...  23   4   9]\n",
      " ...\n",
      " [  0   0   0 ... 331   1  36]\n",
      " [  0   0   0 ...  23   8 220]\n",
      " [  0   0   0 ...  23 422  27]]\n"
     ]
    }
   ],
   "source": [
    "# Tokenisasi teks\n",
    "tokenizer = Tokenizer(num_words=5000)\n",
    "tokenizer.fit_on_texts(df['preprocessed_text'].values)\n",
    "sequences = tokenizer.texts_to_sequences(df['preprocessed_text'].values)\n",
    "\n",
    "# Padding sequences agar memiliki panjang yang sama\n",
    "max_length = 100\n",
    "padded_sequences = pad_sequences(sequences, maxlen=max_length)\n",
    "\n",
    "# Menampilkan hasil\n",
    "print(padded_sequences)"
   ]
  },
  {
   "cell_type": "markdown",
   "metadata": {},
   "source": [
    "#### **Extraction Feature & Modeling**"
   ]
  },
  {
   "cell_type": "code",
   "execution_count": 13,
   "metadata": {},
   "outputs": [],
   "source": [
    "X_train, X_test, y_train, y_test = train_test_split(padded_sequences, encoded_sentiments, test_size=0.2, random_state=42)\n",
    "\n",
    "# Define early stopping callback\n",
    "early_stop = EarlyStopping(monitor='val_loss', patience=3, restore_best_weights=True)"
   ]
  },
  {
   "cell_type": "code",
   "execution_count": 14,
   "metadata": {},
   "outputs": [],
   "source": [
    "# Parameter model\n",
    "vocab_size = len(tokenizer.word_index) + 1  # Ditambah 1 untuk padding token\n",
    "embedding_dim = 100\n",
    "max_length = 200  # Tetapkan max_length sesuai dengan padding sequence\n",
    "\n",
    "def create_model():\n",
    "    # Membuat model\n",
    "    model = Sequential([\n",
    "        Embedding(input_dim=vocab_size, output_dim=embedding_dim), # mengubah representasi kata menjadi vektor dengan dimensi tetap, sebagai featurenya berbentuk vector\n",
    "        Bidirectional(LSTM(units=32, dropout=0.5)),\n",
    "        Dense(units=3, activation='softmax')\n",
    "    ])\n",
    "\n",
    "    # Kompilasi model\n",
    "    model.compile(\n",
    "        loss='categorical_crossentropy', # ketika menggunakan ordinal encoder maka gunakan sparse_categorical_crossentropy, kalau menggunakan one-hot encoder maka menggunakan categorical_crossentropy\n",
    "        optimizer=Adam(learning_rate=0.001),\n",
    "        metrics=['accuracy']\n",
    "    )\n",
    "\n",
    "    # Membangun model\n",
    "    model.build(input_shape=(None, max_length)) # untuk menggunakan embedding\n",
    "\n",
    "    # Menampilkan ringkasan model setelah memberikan contoh data untuk menentukan bentuk layer\n",
    "    model.summary()\n",
    "\n",
    "    return model"
   ]
  },
  {
   "cell_type": "markdown",
   "metadata": {},
   "source": [
    "##### **Experiment**"
   ]
  },
  {
   "cell_type": "code",
   "execution_count": 173,
   "metadata": {},
   "outputs": [],
   "source": [
    "# early_stop = EarlyStopping(monitor='val_loss', patience=3, restore_best_weights=True)"
   ]
  },
  {
   "cell_type": "code",
   "execution_count": 17,
   "metadata": {},
   "outputs": [
    {
     "data": {
      "text/html": [
       "<pre style=\"white-space:pre;overflow-x:auto;line-height:normal;font-family:Menlo,'DejaVu Sans Mono',consolas,'Courier New',monospace\"><span style=\"font-weight: bold\">Model: \"sequential_1\"</span>\n",
       "</pre>\n"
      ],
      "text/plain": [
       "\u001b[1mModel: \"sequential_1\"\u001b[0m\n"
      ]
     },
     "metadata": {},
     "output_type": "display_data"
    },
    {
     "data": {
      "text/html": [
       "<pre style=\"white-space:pre;overflow-x:auto;line-height:normal;font-family:Menlo,'DejaVu Sans Mono',consolas,'Courier New',monospace\">┏━━━━━━━━━━━━━━━━━━━━━━━━━━━━━━━━━┳━━━━━━━━━━━━━━━━━━━━━━━━┳━━━━━━━━━━━━━━━┓\n",
       "┃<span style=\"font-weight: bold\"> Layer (type)                    </span>┃<span style=\"font-weight: bold\"> Output Shape           </span>┃<span style=\"font-weight: bold\">       Param # </span>┃\n",
       "┡━━━━━━━━━━━━━━━━━━━━━━━━━━━━━━━━━╇━━━━━━━━━━━━━━━━━━━━━━━━╇━━━━━━━━━━━━━━━┩\n",
       "│ embedding_1 (<span style=\"color: #0087ff; text-decoration-color: #0087ff\">Embedding</span>)         │ (<span style=\"color: #00d7ff; text-decoration-color: #00d7ff\">None</span>, <span style=\"color: #00af00; text-decoration-color: #00af00\">200</span>, <span style=\"color: #00af00; text-decoration-color: #00af00\">100</span>)       │       <span style=\"color: #00af00; text-decoration-color: #00af00\">373,900</span> │\n",
       "├─────────────────────────────────┼────────────────────────┼───────────────┤\n",
       "│ bidirectional_1 (<span style=\"color: #0087ff; text-decoration-color: #0087ff\">Bidirectional</span>) │ (<span style=\"color: #00d7ff; text-decoration-color: #00d7ff\">None</span>, <span style=\"color: #00af00; text-decoration-color: #00af00\">64</span>)             │        <span style=\"color: #00af00; text-decoration-color: #00af00\">34,048</span> │\n",
       "├─────────────────────────────────┼────────────────────────┼───────────────┤\n",
       "│ dense_1 (<span style=\"color: #0087ff; text-decoration-color: #0087ff\">Dense</span>)                 │ (<span style=\"color: #00d7ff; text-decoration-color: #00d7ff\">None</span>, <span style=\"color: #00af00; text-decoration-color: #00af00\">3</span>)              │           <span style=\"color: #00af00; text-decoration-color: #00af00\">195</span> │\n",
       "└─────────────────────────────────┴────────────────────────┴───────────────┘\n",
       "</pre>\n"
      ],
      "text/plain": [
       "┏━━━━━━━━━━━━━━━━━━━━━━━━━━━━━━━━━┳━━━━━━━━━━━━━━━━━━━━━━━━┳━━━━━━━━━━━━━━━┓\n",
       "┃\u001b[1m \u001b[0m\u001b[1mLayer (type)                   \u001b[0m\u001b[1m \u001b[0m┃\u001b[1m \u001b[0m\u001b[1mOutput Shape          \u001b[0m\u001b[1m \u001b[0m┃\u001b[1m \u001b[0m\u001b[1m      Param #\u001b[0m\u001b[1m \u001b[0m┃\n",
       "┡━━━━━━━━━━━━━━━━━━━━━━━━━━━━━━━━━╇━━━━━━━━━━━━━━━━━━━━━━━━╇━━━━━━━━━━━━━━━┩\n",
       "│ embedding_1 (\u001b[38;5;33mEmbedding\u001b[0m)         │ (\u001b[38;5;45mNone\u001b[0m, \u001b[38;5;34m200\u001b[0m, \u001b[38;5;34m100\u001b[0m)       │       \u001b[38;5;34m373,900\u001b[0m │\n",
       "├─────────────────────────────────┼────────────────────────┼───────────────┤\n",
       "│ bidirectional_1 (\u001b[38;5;33mBidirectional\u001b[0m) │ (\u001b[38;5;45mNone\u001b[0m, \u001b[38;5;34m64\u001b[0m)             │        \u001b[38;5;34m34,048\u001b[0m │\n",
       "├─────────────────────────────────┼────────────────────────┼───────────────┤\n",
       "│ dense_1 (\u001b[38;5;33mDense\u001b[0m)                 │ (\u001b[38;5;45mNone\u001b[0m, \u001b[38;5;34m3\u001b[0m)              │           \u001b[38;5;34m195\u001b[0m │\n",
       "└─────────────────────────────────┴────────────────────────┴───────────────┘\n"
      ]
     },
     "metadata": {},
     "output_type": "display_data"
    },
    {
     "data": {
      "text/html": [
       "<pre style=\"white-space:pre;overflow-x:auto;line-height:normal;font-family:Menlo,'DejaVu Sans Mono',consolas,'Courier New',monospace\"><span style=\"font-weight: bold\"> Total params: </span><span style=\"color: #00af00; text-decoration-color: #00af00\">408,143</span> (1.56 MB)\n",
       "</pre>\n"
      ],
      "text/plain": [
       "\u001b[1m Total params: \u001b[0m\u001b[38;5;34m408,143\u001b[0m (1.56 MB)\n"
      ]
     },
     "metadata": {},
     "output_type": "display_data"
    },
    {
     "data": {
      "text/html": [
       "<pre style=\"white-space:pre;overflow-x:auto;line-height:normal;font-family:Menlo,'DejaVu Sans Mono',consolas,'Courier New',monospace\"><span style=\"font-weight: bold\"> Trainable params: </span><span style=\"color: #00af00; text-decoration-color: #00af00\">408,143</span> (1.56 MB)\n",
       "</pre>\n"
      ],
      "text/plain": [
       "\u001b[1m Trainable params: \u001b[0m\u001b[38;5;34m408,143\u001b[0m (1.56 MB)\n"
      ]
     },
     "metadata": {},
     "output_type": "display_data"
    },
    {
     "data": {
      "text/html": [
       "<pre style=\"white-space:pre;overflow-x:auto;line-height:normal;font-family:Menlo,'DejaVu Sans Mono',consolas,'Courier New',monospace\"><span style=\"font-weight: bold\"> Non-trainable params: </span><span style=\"color: #00af00; text-decoration-color: #00af00\">0</span> (0.00 B)\n",
       "</pre>\n"
      ],
      "text/plain": [
       "\u001b[1m Non-trainable params: \u001b[0m\u001b[38;5;34m0\u001b[0m (0.00 B)\n"
      ]
     },
     "metadata": {},
     "output_type": "display_data"
    }
   ],
   "source": [
    "# Create the model\n",
    "model_test = create_model()"
   ]
  },
  {
   "cell_type": "code",
   "execution_count": 18,
   "metadata": {},
   "outputs": [
    {
     "name": "stdout",
     "output_type": "stream",
     "text": [
      "Epoch 1/20\n",
      "\u001b[1m143/143\u001b[0m \u001b[32m━━━━━━━━━━━━━━━━━━━━\u001b[0m\u001b[37m\u001b[0m \u001b[1m24s\u001b[0m 133ms/step - accuracy: 0.6824 - loss: 0.7105 - val_accuracy: 0.9360 - val_loss: 0.1956\n",
      "Epoch 2/20\n",
      "\u001b[1m143/143\u001b[0m \u001b[32m━━━━━━━━━━━━━━━━━━━━\u001b[0m\u001b[37m\u001b[0m \u001b[1m19s\u001b[0m 123ms/step - accuracy: 0.9450 - loss: 0.1690 - val_accuracy: 0.9527 - val_loss: 0.1453\n",
      "Epoch 3/20\n",
      "\u001b[1m143/143\u001b[0m \u001b[32m━━━━━━━━━━━━━━━━━━━━\u001b[0m\u001b[37m\u001b[0m \u001b[1m18s\u001b[0m 129ms/step - accuracy: 0.9654 - loss: 0.1037 - val_accuracy: 0.9517 - val_loss: 0.1399\n",
      "Epoch 4/20\n",
      "\u001b[1m143/143\u001b[0m \u001b[32m━━━━━━━━━━━━━━━━━━━━\u001b[0m\u001b[37m\u001b[0m \u001b[1m14s\u001b[0m 101ms/step - accuracy: 0.9719 - loss: 0.0873 - val_accuracy: 0.9507 - val_loss: 0.1341\n",
      "Epoch 5/20\n",
      "\u001b[1m143/143\u001b[0m \u001b[32m━━━━━━━━━━━━━━━━━━━━\u001b[0m\u001b[37m\u001b[0m \u001b[1m12s\u001b[0m 84ms/step - accuracy: 0.9776 - loss: 0.0660 - val_accuracy: 0.9537 - val_loss: 0.1466\n",
      "Epoch 6/20\n",
      "\u001b[1m143/143\u001b[0m \u001b[32m━━━━━━━━━━━━━━━━━━━━\u001b[0m\u001b[37m\u001b[0m \u001b[1m13s\u001b[0m 88ms/step - accuracy: 0.9807 - loss: 0.0615 - val_accuracy: 0.9567 - val_loss: 0.1440\n",
      "Epoch 7/20\n",
      "\u001b[1m143/143\u001b[0m \u001b[32m━━━━━━━━━━━━━━━━━━━━\u001b[0m\u001b[37m\u001b[0m \u001b[1m13s\u001b[0m 91ms/step - accuracy: 0.9865 - loss: 0.0439 - val_accuracy: 0.9576 - val_loss: 0.1457\n"
     ]
    }
   ],
   "source": [
    "# Define the checkpoint callback\n",
    "checkpoint = ModelCheckpoint(\n",
    "    '../be-sentiment-pk/model/bilstm_fix/best_model19.keras',         # File path to save the model\n",
    "    monitor='val_loss',      # Metric to monitor\n",
    "    save_best_only=True,      # Save only the best model\n",
    "    mode='min',              # Save the model with the minimum value of the monitored metric\n",
    "    verbose=1                # Print log messages\n",
    ")\n",
    "\n",
    "# Define the early stopping callback\n",
    "early_stop = EarlyStopping(\n",
    "    monitor='val_loss',      # Metric to monitor\n",
    "    patience=3,              # Number of epochs with no improvement to wait\n",
    "    restore_best_weights=True  # Restore the model weights from the epoch with the best value of the monitored metric\n",
    ")\n",
    "\n",
    "# Train the model with the callbacks\n",
    "history_test = model_test.fit(\n",
    "    X_train, y_train,\n",
    "    epochs=20,\n",
    "    batch_size=64,\n",
    "    validation_split=0.1,\n",
    "    callbacks=[early_stop]\n",
    ")"
   ]
  },
  {
   "cell_type": "code",
   "execution_count": 19,
   "metadata": {},
   "outputs": [
    {
     "name": "stdout",
     "output_type": "stream",
     "text": [
      "\u001b[1m80/80\u001b[0m \u001b[32m━━━━━━━━━━━━━━━━━━━━\u001b[0m\u001b[37m\u001b[0m \u001b[1m2s\u001b[0m 15ms/step - accuracy: 0.9564 - loss: 0.1293\n",
      "Validation Loss: 0.14214162528514862\n",
      "Test Accuracy: 0.9562302827835083\n"
     ]
    }
   ],
   "source": [
    "# units=32, batch_size=128, validation_split=0.2\n",
    "loss_test, accuracy_test = model_test.evaluate(X_test, y_test)\n",
    "print(f\"Validation Loss: {loss_test}\")\n",
    "print(f\"Test Accuracy: {accuracy_test}\")"
   ]
  },
  {
   "cell_type": "markdown",
   "metadata": {},
   "source": [
    "##### **FIX**"
   ]
  },
  {
   "cell_type": "code",
   "execution_count": 77,
   "metadata": {},
   "outputs": [
    {
     "name": "stdout",
     "output_type": "stream",
     "text": [
      "Epoch 1/20\n",
      "\u001b[1m571/571\u001b[0m \u001b[32m━━━━━━━━━━━━━━━━━━━━\u001b[0m\u001b[37m\u001b[0m \u001b[1m0s\u001b[0m 101ms/step - accuracy: 0.7815 - loss: 0.5322\n",
      "Epoch 1: val_loss improved from inf to 0.25603, saving model to ../be-sentiment-pk/model/bilstm_fix/best_model.keras\n",
      "\u001b[1m571/571\u001b[0m \u001b[32m━━━━━━━━━━━━━━━━━━━━\u001b[0m\u001b[37m\u001b[0m \u001b[1m65s\u001b[0m 105ms/step - accuracy: 0.7816 - loss: 0.5319 - val_accuracy: 0.9073 - val_loss: 0.2560\n",
      "Epoch 2/20\n",
      "\u001b[1m571/571\u001b[0m \u001b[32m━━━━━━━━━━━━━━━━━━━━\u001b[0m\u001b[37m\u001b[0m \u001b[1m0s\u001b[0m 86ms/step - accuracy: 0.9309 - loss: 0.1928\n",
      "Epoch 2: val_loss did not improve from 0.25603\n",
      "\u001b[1m571/571\u001b[0m \u001b[32m━━━━━━━━━━━━━━━━━━━━\u001b[0m\u001b[37m\u001b[0m \u001b[1m50s\u001b[0m 88ms/step - accuracy: 0.9309 - loss: 0.1928 - val_accuracy: 0.9118 - val_loss: 0.2686\n",
      "Epoch 3/20\n",
      "\u001b[1m571/571\u001b[0m \u001b[32m━━━━━━━━━━━━━━━━━━━━\u001b[0m\u001b[37m\u001b[0m \u001b[1m0s\u001b[0m 84ms/step - accuracy: 0.9514 - loss: 0.1353\n",
      "Epoch 3: val_loss did not improve from 0.25603\n",
      "\u001b[1m571/571\u001b[0m \u001b[32m━━━━━━━━━━━━━━━━━━━━\u001b[0m\u001b[37m\u001b[0m \u001b[1m49s\u001b[0m 86ms/step - accuracy: 0.9514 - loss: 0.1353 - val_accuracy: 0.9044 - val_loss: 0.2816\n",
      "Epoch 4/20\n",
      "\u001b[1m571/571\u001b[0m \u001b[32m━━━━━━━━━━━━━━━━━━━━\u001b[0m\u001b[37m\u001b[0m \u001b[1m0s\u001b[0m 76ms/step - accuracy: 0.9633 - loss: 0.1017\n",
      "Epoch 4: val_loss did not improve from 0.25603\n",
      "\u001b[1m571/571\u001b[0m \u001b[32m━━━━━━━━━━━━━━━━━━━━\u001b[0m\u001b[37m\u001b[0m \u001b[1m78s\u001b[0m 78ms/step - accuracy: 0.9633 - loss: 0.1017 - val_accuracy: 0.8980 - val_loss: 0.3048\n"
     ]
    }
   ],
   "source": [
    "# Define the checkpoint callback\n",
    "checkpoint = ModelCheckpoint(\n",
    "    '../be-sentiment-pk/model/bilstm_fix/best_model11.keras',         # File path to save the model\n",
    "    monitor='val_loss',      # Metric to monitor\n",
    "    save_best_only=True,      # Save only the best model\n",
    "    mode='min',              # Save the model with the minimum value of the monitored metric\n",
    "    verbose=1                # Print log messages\n",
    ")\n",
    "\n",
    "# Define the early stopping callback\n",
    "early_stop = EarlyStopping(\n",
    "    monitor='val_loss',      # Metric to monitor\n",
    "    patience=3,              # Number of epochs with no improvement to wait\n",
    "    restore_best_weights=True  # Restore the model weights from the epoch with the best value of the monitored metric\n",
    ")\n",
    "\n",
    "# Train the model with the callbacks\n",
    "history = model.fit(\n",
    "    X_train, y_train,\n",
    "    epochs=20,\n",
    "    batch_size=32,\n",
    "    validation_split=0.1,\n",
    "    callbacks=[checkpoint, early_stop]\n",
    ")"
   ]
  },
  {
   "cell_type": "code",
   "execution_count": 78,
   "metadata": {},
   "outputs": [
    {
     "name": "stdout",
     "output_type": "stream",
     "text": [
      "\u001b[1m159/159\u001b[0m \u001b[32m━━━━━━━━━━━━━━━━━━━━\u001b[0m\u001b[37m\u001b[0m \u001b[1m2s\u001b[0m 16ms/step - accuracy: 0.9125 - loss: 0.2363\n",
      "Validation Loss: 0.23696446418762207\n",
      "Test Accuracy: 0.9106861352920532\n"
     ]
    }
   ],
   "source": [
    "# batch_size=64, validation_split=0.1\n",
    "loss, accuracy = model.evaluate(X_test, y_test)\n",
    "print(f\"Validation Loss: {loss}\")\n",
    "print(f\"Test Accuracy: {accuracy}\")"
   ]
  },
  {
   "cell_type": "code",
   "execution_count": 45,
   "metadata": {},
   "outputs": [
    {
     "name": "stdout",
     "output_type": "stream",
     "text": [
      "Epoch 1/20\n",
      "\u001b[1m571/571\u001b[0m \u001b[32m━━━━━━━━━━━━━━━━━━━━\u001b[0m\u001b[37m\u001b[0m \u001b[1m79s\u001b[0m 131ms/step - accuracy: 0.7841 - loss: 0.5287 - val_accuracy: 0.9039 - val_loss: 0.2628\n",
      "Epoch 2/20\n",
      "\u001b[1m571/571\u001b[0m \u001b[32m━━━━━━━━━━━━━━━━━━━━\u001b[0m\u001b[37m\u001b[0m \u001b[1m58s\u001b[0m 102ms/step - accuracy: 0.9359 - loss: 0.1793 - val_accuracy: 0.9073 - val_loss: 0.2682\n",
      "Epoch 3/20\n",
      "\u001b[1m571/571\u001b[0m \u001b[32m━━━━━━━━━━━━━━━━━━━━\u001b[0m\u001b[37m\u001b[0m \u001b[1m51s\u001b[0m 88ms/step - accuracy: 0.9527 - loss: 0.1372 - val_accuracy: 0.9039 - val_loss: 0.2894\n",
      "Epoch 4/20\n",
      "\u001b[1m571/571\u001b[0m \u001b[32m━━━━━━━━━━━━━━━━━━━━\u001b[0m\u001b[37m\u001b[0m \u001b[1m52s\u001b[0m 91ms/step - accuracy: 0.9650 - loss: 0.1015 - val_accuracy: 0.9024 - val_loss: 0.2933\n"
     ]
    }
   ],
   "source": [
    "# Train and evaluate the model\n",
    "history = model.fit(X_train, y_train, epochs=20, batch_size=32, validation_split=0.1, callbacks=[early_stop])"
   ]
  },
  {
   "cell_type": "code",
   "execution_count": 46,
   "metadata": {},
   "outputs": [
    {
     "name": "stdout",
     "output_type": "stream",
     "text": [
      "\u001b[1m159/159\u001b[0m \u001b[32m━━━━━━━━━━━━━━━━━━━━\u001b[0m\u001b[37m\u001b[0m \u001b[1m4s\u001b[0m 24ms/step - accuracy: 0.9146 - loss: 0.2383\n",
      "Validation Loss: 0.2445911169052124\n",
      "Test Accuracy: 0.9100946187973022\n"
     ]
    }
   ],
   "source": [
    "# batch_size=64, validation_split=0.1\n",
    "loss, accuracy = model.evaluate(X_test, y_test)\n",
    "print(f\"Validation Loss: {loss}\")\n",
    "print(f\"Test Accuracy: {accuracy}\")"
   ]
  },
  {
   "cell_type": "markdown",
   "metadata": {},
   "source": [
    "#### **Evaluasi Model**"
   ]
  },
  {
   "cell_type": "code",
   "execution_count": 11,
   "metadata": {},
   "outputs": [],
   "source": [
    "model = load_model('../be-sentiment-pk/models/bilstm_fix/model_bilstm_fix3.keras')"
   ]
  },
  {
   "cell_type": "code",
   "execution_count": 37,
   "metadata": {},
   "outputs": [
    {
     "name": "stdout",
     "output_type": "stream",
     "text": [
      "\u001b[1m317/317\u001b[0m \u001b[32m━━━━━━━━━━━━━━━━━━━━\u001b[0m\u001b[37m\u001b[0m \u001b[1m3s\u001b[0m 10ms/step - accuracy: 0.9802 - loss: 0.0617\n",
      "Training Accuracy: 97.62%\n",
      "\u001b[1m317/317\u001b[0m \u001b[32m━━━━━━━━━━━━━━━━━━━━\u001b[0m\u001b[37m\u001b[0m \u001b[1m3s\u001b[0m 11ms/step\n",
      "Training Classification Report:\n",
      "               precision    recall  f1-score   support\n",
      "\n",
      "    negative       0.96      0.99      0.97      3234\n",
      "     neutral       0.95      0.89      0.92      1087\n",
      "    positive       0.99      0.99      0.99      5822\n",
      "\n",
      "   micro avg       0.98      0.98      0.98     10143\n",
      "   macro avg       0.97      0.95      0.96     10143\n",
      "weighted avg       0.98      0.98      0.98     10143\n",
      " samples avg       0.98      0.98      0.98     10143\n",
      "\n"
     ]
    }
   ],
   "source": [
    "# Evaluasi model pada set pelatihan\n",
    "train_loss, train_accuracy = model_test.evaluate(X_train, y_train)\n",
    "print(f'Training Accuracy: {train_accuracy * 100:.2f}%')\n",
    "\n",
    "# Prediksi label untuk set pelatihan\n",
    "y_train_pred = model.predict(X_train)\n",
    "\n",
    "# Menghasilkan label prediksi menggunakan argmax\n",
    "y_train_pred_classes = np.argmax(y_train_pred, axis=1)\n",
    "\n",
    "# Mengonversi y_train_pred_classes ke bentuk one-hot encoding untuk perbandingan yang sesuai\n",
    "y_train_pred_onehot = np.zeros_like(y_train_pred)\n",
    "y_train_pred_onehot[np.arange(len(y_train_pred)), y_train_pred_classes] = 1\n",
    "\n",
    "# Menghasilkan laporan klasifikasi untuk set pelatihan\n",
    "train_report = classification_report(y_train, y_train_pred_onehot, target_names=['negative', 'neutral', 'positive'])\n",
    "print(\"Training Classification Report:\\n\", train_report)\n"
   ]
  },
  {
   "cell_type": "code",
   "execution_count": 43,
   "metadata": {},
   "outputs": [
    {
     "name": "stdout",
     "output_type": "stream",
     "text": [
      "\u001b[1m80/80\u001b[0m \u001b[32m━━━━━━━━━━━━━━━━━━━━\u001b[0m\u001b[37m\u001b[0m \u001b[1m1s\u001b[0m 10ms/step - accuracy: 0.9564 - loss: 0.1293\n",
      "Test Accuracy: 95.62%\n",
      "\u001b[1m80/80\u001b[0m \u001b[32m━━━━━━━━━━━━━━━━━━━━\u001b[0m\u001b[37m\u001b[0m \u001b[1m1s\u001b[0m 15ms/step\n",
      "\n",
      "Confusion Matrix:\n",
      " [[ 751   12    8]\n",
      " [  37  217   14]\n",
      " [  29   11 1457]]\n",
      "\n",
      "Testing Classification Report:\n",
      "               precision    recall  f1-score   support\n",
      "\n",
      "    negative       0.92      0.97      0.95       771\n",
      "     neutral       0.90      0.81      0.85       268\n",
      "    positive       0.99      0.97      0.98      1497\n",
      "\n",
      "   micro avg       0.96      0.96      0.96      2536\n",
      "   macro avg       0.94      0.92      0.93      2536\n",
      "weighted avg       0.96      0.96      0.96      2536\n",
      " samples avg       0.96      0.96      0.96      2536\n",
      "\n"
     ]
    }
   ],
   "source": [
    "# Evaluasi model pada set pengujian\n",
    "loss, accuracy = model_test.evaluate(X_test, y_test)\n",
    "print(f'Test Accuracy: {accuracy * 100:.2f}%')\n",
    "\n",
    "# Prediksi label untuk set pengujian\n",
    "y_pred = model.predict(X_test)\n",
    "y_pred_classes = np.argmax(y_pred, axis=1)\n",
    "\n",
    "# Mengonversi y_pred_classes ke bentuk one-hot encoding\n",
    "y_pred_onehot = np.zeros_like(y_pred)\n",
    "y_pred_onehot[np.arange(len(y_pred)), y_pred_classes] = 1\n",
    "\n",
    "# Pastikan y_test adalah array 1 dimensi (bukan one-hot encoding)\n",
    "y_test_classes = np.argmax(y_test, axis=1) if y_test.shape[1] > 1 else y_test\n",
    "conf_matrix = confusion_matrix(y_test_classes, y_pred_classes)\n",
    "\n",
    "print('\\nConfusion Matrix:\\n', conf_matrix)\n",
    "\n",
    "# Menghasilkan laporan klasifikasi untuk set pengujian\n",
    "test_report = classification_report(y_test, y_pred_onehot, target_names=['negative', 'neutral', 'positive'])\n",
    "print(\"\\nTesting Classification Report:\\n\", test_report)\n"
   ]
  },
  {
   "cell_type": "code",
   "execution_count": 38,
   "metadata": {},
   "outputs": [
    {
     "name": "stdout",
     "output_type": "stream",
     "text": [
      "\u001b[1m80/80\u001b[0m \u001b[32m━━━━━━━━━━━━━━━━━━━━\u001b[0m\u001b[37m\u001b[0m \u001b[1m1s\u001b[0m 15ms/step - accuracy: 0.9564 - loss: 0.1293\n",
      "Test Accuracy: 95.62%\n",
      "\u001b[1m80/80\u001b[0m \u001b[32m━━━━━━━━━━━━━━━━━━━━\u001b[0m\u001b[37m\u001b[0m \u001b[1m1s\u001b[0m 11ms/step\n",
      "Testing Classification Report:\n",
      "               precision    recall  f1-score   support\n",
      "\n",
      "    negative       0.92      0.97      0.95       771\n",
      "     neutral       0.90      0.81      0.85       268\n",
      "    positive       0.99      0.97      0.98      1497\n",
      "\n",
      "   micro avg       0.96      0.96      0.96      2536\n",
      "   macro avg       0.94      0.92      0.93      2536\n",
      "weighted avg       0.96      0.96      0.96      2536\n",
      " samples avg       0.96      0.96      0.96      2536\n",
      "\n"
     ]
    }
   ],
   "source": [
    "# Evaluasi model pada set pengujian\n",
    "loss, accuracy = model.evaluate(X_test, y_test)\n",
    "print(f'Test Accuracy: {accuracy * 100:.2f}%')\n",
    "\n",
    "# Prediksi label untuk set pengujian\n",
    "y_pred = model.predict(X_test)\n",
    "y_pred_classes = np.argmax(y_pred, axis=1)\n",
    "\n",
    "# Mengonversi y_pred_classes ke bentuk one-hot encoding\n",
    "y_pred_onehot = np.zeros_like(y_pred)\n",
    "y_pred_onehot[np.arange(len(y_pred)), y_pred_classes] = 1\n",
    "\n",
    "# Menghasilkan laporan klasifikasi untuk set pengujian\n",
    "test_report = classification_report(y_test, y_pred_onehot, target_names=['negative', 'neutral', 'positive'])\n",
    "print(\"Testing Classification Report:\\n\", test_report)\n"
   ]
  },
  {
   "cell_type": "code",
   "execution_count": 39,
   "metadata": {},
   "outputs": [
    {
     "name": "stdout",
     "output_type": "stream",
     "text": [
      "\n",
      "Confusion Matrix:\n",
      " [[ 751   12    8]\n",
      " [  37  217   14]\n",
      " [  29   11 1457]]\n"
     ]
    }
   ],
   "source": [
    "# Pastikan y_test adalah array 1 dimensi (bukan one-hot encoding)\n",
    "y_test_classes = np.argmax(y_test, axis=1) if y_test.shape[1] > 1 else y_test\n",
    "\n",
    "conf_matrix = confusion_matrix(y_test_classes, y_pred_classes)\n",
    "print('\\nConfusion Matrix:\\n', conf_matrix)"
   ]
  },
  {
   "cell_type": "code",
   "execution_count": 32,
   "metadata": {},
   "outputs": [
    {
     "name": "stdout",
     "output_type": "stream",
     "text": [
      "\u001b[1m1/1\u001b[0m \u001b[32m━━━━━━━━━━━━━━━━━━━━\u001b[0m\u001b[37m\u001b[0m \u001b[1m0s\u001b[0m 26ms/step\n",
      "Text: tempat sampah bocor\n",
      "Prediction: [0.7825986  0.1142235  0.10317788]\n",
      "Sentiment: negative\n",
      "Highest Score: 0.782598614692688\n",
      "Score Negative: 0.782598614692688\n",
      "Score Neutral: 0.11422350257635117\n",
      "Score Positive: 0.10317787528038025\n",
      "\n"
     ]
    }
   ],
   "source": [
    "import re\n",
    "\n",
    "# Function to preprocess text\n",
    "def preprocess_text(text):\n",
    "    # text = re.sub(r'\\bsampah\\b', 'sampahnya', text)\n",
    "    text = casefolding(text)\n",
    "    text = text_normalize(text)\n",
    "    text = remove_stopwords(text)\n",
    "    text = stemming(text)\n",
    "    text = lemmatization(text)\n",
    "    return text\n",
    "\n",
    "# Example usage\n",
    "feedback = input(\"Your Feedback:\")\n",
    "feedback_processed = preprocess_text(feedback)\n",
    "\n",
    "# Example new data to predict\n",
    "new_texts = [feedback_processed]\n",
    "\n",
    "# Tokenize new data\n",
    "sequences_predict = tokenizer.texts_to_sequences(new_texts)\n",
    "\n",
    "# Padding sequences\n",
    "max_length = 100  # Adjust according to your model's max_length\n",
    "padded_sequences_predict = pad_sequences(sequences_predict, maxlen=max_length)\n",
    "\n",
    "# Load the saved model\n",
    "# model = load_model('../model/bilstm/model_bilstm3.keras')\n",
    "\n",
    "# Perform prediction\n",
    "predictions = model.predict(padded_sequences_predict)\n",
    "\n",
    "# Example of printing predictions\n",
    "for text, prediction in zip(new_texts, predictions):\n",
    "    print(f'Text: {feedback}')\n",
    "    print(f'Prediction: {prediction}')\n",
    "\n",
    "    # Find the index of the maximum value\n",
    "    if np.argmax(prediction) == 0:\n",
    "        print(\"Sentiment: negative\")\n",
    "    elif np.argmax(prediction) == 1:\n",
    "        print(\"Sentiment: neutral\")\n",
    "    elif np.argmax(prediction) == 2:\n",
    "        print(\"Sentiment: positive\")\n",
    "\n",
    "    # Find the maximum value in the prediction array\n",
    "    max_value = max(prediction)\n",
    "    print(f'Highest Score: {max_value}')\n",
    "\n",
    "    print(f'Score Negative: {prediction[0]}')\n",
    "    print(f'Score Neutral: {prediction[1]}')\n",
    "    print(f'Score Positive: {prediction[2]}')\n",
    "    print()  # For spacing between outputs\n"
   ]
  },
  {
   "cell_type": "markdown",
   "metadata": {},
   "source": [
    "#### **Model SVM**"
   ]
  },
  {
   "cell_type": "code",
   "execution_count": 224,
   "metadata": {},
   "outputs": [],
   "source": [
    "from sklearn.feature_extraction.text import TfidfVectorizer\n",
    "from sklearn import svm"
   ]
  },
  {
   "cell_type": "code",
   "execution_count": 225,
   "metadata": {},
   "outputs": [],
   "source": [
    "from sklearn.pipeline import Pipeline\n",
    "\n",
    "pipeline = Pipeline([\n",
    "    ('tfidf', TfidfVectorizer()),\n",
    "    ('svm', svm.SVC())\n",
    "])"
   ]
  },
  {
   "cell_type": "code",
   "execution_count": 226,
   "metadata": {},
   "outputs": [],
   "source": [
    "tfidf_vectorizer = TfidfVectorizer(max_df=0.6, min_df=1, ngram_range=(1, 2))\n",
    "tfidf_matrix = tfidf_vectorizer.fit_transform(df['preprocessed_text'])"
   ]
  },
  {
   "cell_type": "code",
   "execution_count": 227,
   "metadata": {},
   "outputs": [
    {
     "name": "stdout",
     "output_type": "stream",
     "text": [
      "Kata: 00 ib, Nilai IDF: 10.447741795037093\n",
      "Kata: 00 private, Nilai IDF: 10.447741795037093\n",
      "Kata: 00 si, Nilai IDF: 10.447741795037093\n",
      "Kata: 000 banyak, Nilai IDF: 10.447741795037093\n",
      "Kata: 000 bunda, Nilai IDF: 10.447741795037093\n",
      "Kata: 000 datang, Nilai IDF: 10.447741795037093\n",
      "Kata: 000 hingga, Nilai IDF: 10.447741795037093\n",
      "Kata: 000 kamu, Nilai IDF: 10.447741795037093\n",
      "Kata: 000 layan, Nilai IDF: 10.447741795037093\n",
      "Kata: 000 per, Nilai IDF: 10.447741795037093\n"
     ]
    }
   ],
   "source": [
    "# Menampilkan 10 kata dengan nilai IDF tertinggi\n",
    "freqs = tfidf_matrix.sum(axis=0)\n",
    "idf_values = tfidf_vectorizer.idf_\n",
    "word_idf = dict(zip(tfidf_vectorizer.get_feature_names_out(), idf_values))\n",
    "\n",
    "top_idf_words = sorted(word_idf.items(), key=lambda x: x[1], reverse=True)[:10]\n",
    "for word, idf in top_idf_words:\n",
    "    print(f'Kata: {word}, Nilai IDF: {idf}')"
   ]
  },
  {
   "cell_type": "code",
   "execution_count": 228,
   "metadata": {},
   "outputs": [
    {
     "name": "stdout",
     "output_type": "stream",
     "text": [
      "Accuracy : 0.9148264984227129\n"
     ]
    }
   ],
   "source": [
    "X_train_idf, X_test_idf, y_train_idf, y_test_idf = train_test_split(tfidf_matrix, df['label'], test_size=0.2, random_state=42)\n",
    "\n",
    "model = svm.SVC(C=2, kernel='rbf', gamma=0.5)\n",
    "model.fit(X_train_idf, y_train_idf)\n",
    "print(f\"Accuracy : {model.score(X_test_idf, y_test_idf)}\")"
   ]
  },
  {
   "cell_type": "code",
   "execution_count": 229,
   "metadata": {},
   "outputs": [],
   "source": [
    "from sklearn.metrics import accuracy_score, classification_report, precision_score, recall_score, f1_score"
   ]
  },
  {
   "cell_type": "code",
   "execution_count": 230,
   "metadata": {},
   "outputs": [
    {
     "name": "stdout",
     "output_type": "stream",
     "text": [
      "Training Accuracy: 0.9933451641526175\n",
      "Training Classification Report:\n",
      "              precision    recall  f1-score   support\n",
      "\n",
      "    negative       0.99      0.99      0.99      6442\n",
      "     neutral       1.00      0.99      1.00      2171\n",
      "    positive       0.99      0.99      0.99     11673\n",
      "\n",
      "    accuracy                           0.99     20286\n",
      "   macro avg       0.99      0.99      0.99     20286\n",
      "weighted avg       0.99      0.99      0.99     20286\n",
      "\n"
     ]
    }
   ],
   "source": [
    "# Evaluasi model pada training\n",
    "y_train_pred_idf = model.predict(X_train_idf)\n",
    "train_accuracy_idf = accuracy_score(y_train_idf, y_train_pred_idf)\n",
    "\n",
    "print(\"Training Accuracy:\", train_accuracy_idf)\n",
    "print(\"Training Classification Report:\")\n",
    "print(classification_report(y_train_idf, y_train_pred_idf))"
   ]
  },
  {
   "cell_type": "code",
   "execution_count": 231,
   "metadata": {},
   "outputs": [
    {
     "name": "stdout",
     "output_type": "stream",
     "text": [
      "Testing Accuracy: 0.9148264984227129\n",
      "Testing Classification Report:\n",
      "              precision    recall  f1-score   support\n",
      "\n",
      "    negative       0.87      0.90      0.89      1568\n",
      "     neutral       0.89      0.72      0.79       539\n",
      "    positive       0.94      0.96      0.95      2965\n",
      "\n",
      "    accuracy                           0.91      5072\n",
      "   macro avg       0.90      0.86      0.88      5072\n",
      "weighted avg       0.91      0.91      0.91      5072\n",
      "\n"
     ]
    }
   ],
   "source": [
    "# Evaluasi model pada testing\n",
    "y_test_pred_idf = model.predict(X_test_idf)\n",
    "test_accuracy_idf = accuracy_score(y_test_idf, y_test_pred_idf)\n",
    "\n",
    "print(\"Testing Accuracy:\", test_accuracy_idf)\n",
    "print(\"Testing Classification Report:\")\n",
    "print(classification_report(y_test_idf, y_test_pred_idf))"
   ]
  },
  {
   "cell_type": "code",
   "execution_count": 233,
   "metadata": {},
   "outputs": [],
   "source": [
    "import joblib"
   ]
  },
  {
   "cell_type": "code",
   "execution_count": 234,
   "metadata": {},
   "outputs": [
    {
     "data": {
      "text/plain": [
       "['../be-sentiment-pk/utils/tfidf_vectorizer.pkl']"
      ]
     },
     "execution_count": 234,
     "metadata": {},
     "output_type": "execute_result"
    }
   ],
   "source": [
    "joblib.dump(model, '../be-sentiment-pk/utils/sentiment.pkl')\n",
    "joblib.dump(tfidf_vectorizer, '../be-sentiment-pk/utils/tfidf_vectorizer.pkl')"
   ]
  },
  {
   "cell_type": "markdown",
   "metadata": {},
   "source": [
    "#### **Save Model**"
   ]
  },
  {
   "cell_type": "code",
   "execution_count": 23,
   "metadata": {},
   "outputs": [],
   "source": [
    "# Save the model as an keras file\n",
    "model_test.save('../be-sentiment-pk/fix/model_final.keras')"
   ]
  },
  {
   "cell_type": "code",
   "execution_count": 22,
   "metadata": {},
   "outputs": [],
   "source": [
    "# Simpan history ke file pickle\n",
    "with open('../be-sentiment-pk/fix/history_final.pkl', 'wb') as file:\n",
    "    pickle.dump(history_test.history, file)"
   ]
  },
  {
   "cell_type": "code",
   "execution_count": 24,
   "metadata": {},
   "outputs": [],
   "source": [
    "# Save the model weights\n",
    "model_test.save_weights('../be-sentiment-pk/fix/model_weights_final.weights.h5')"
   ]
  },
  {
   "cell_type": "code",
   "execution_count": 26,
   "metadata": {},
   "outputs": [],
   "source": [
    "# Save the model as a PKL file\n",
    "# Save the model architecture as a JSON string\n",
    "model_json = model_test.to_json()\n",
    "with open('../be-sentiment-pk/fix/model_architecture_final.json', 'w') as json_file:\n",
    "    json_file.write(model_json)"
   ]
  },
  {
   "cell_type": "code",
   "execution_count": 27,
   "metadata": {},
   "outputs": [],
   "source": [
    "# Save the model as a pickle file\n",
    "with open('../be-sentiment-pk/fix/model_final.pkl', 'wb') as pkl_file:\n",
    "    pickle.dump({'../be-sentiment-pk/fix/model_architecture_final': model_json, '../be-sentiment-pk/fix/model_weights_final': model.get_weights()}, pkl_file)"
   ]
  },
  {
   "cell_type": "code",
   "execution_count": 28,
   "metadata": {},
   "outputs": [],
   "source": [
    "# Save tokenizer's word index\n",
    "with open('../be-sentiment-pk/fix/tokenizer_word_index_final.pkl', 'wb') as f:\n",
    "    pickle.dump(tokenizer.word_index, f)\n",
    "\n",
    "# Save tokenizer's configuration\n",
    "tokenizer_config = {\n",
    "    'num_words': tokenizer.num_words,\n",
    "    'filters': tokenizer.filters,\n",
    "    'lower': tokenizer.lower,\n",
    "    'split': tokenizer.split,\n",
    "    'char_level': tokenizer.char_level,\n",
    "    'oov_token': tokenizer.oov_token,\n",
    "    'document_count': tokenizer.document_count\n",
    "}\n",
    "\n",
    "with open('../be-sentiment-pk/fix/tokenizer_config_final.pkl', 'wb') as f:\n",
    "    pickle.dump(tokenizer_config, f)"
   ]
  },
  {
   "cell_type": "code",
   "execution_count": 40,
   "metadata": {},
   "outputs": [
    {
     "data": {
      "image/png": "[encoded data removed]",
      "text/plain": [
       "<Figure size 640x480 with 1 Axes>"
      ]
     },
     "metadata": {},
     "output_type": "display_data"
    }
   ],
   "source": [
    "# Memuat history dari file pickle\n",
    "with open('../be-sentiment-pk/fix/history_final.pkl', 'rb') as file:\n",
    "    history = pickle.load(file)\n",
    "\n",
    "# Membuat grafik loss\n",
    "import matplotlib.pyplot as plt\n",
    "\n",
    "# Plot loss\n",
    "plt.plot(history['loss'], label='Training Loss')\n",
    "plt.plot(history['val_loss'], label='Validation Loss')\n",
    "plt.title('Training and Validation Loss')\n",
    "plt.xlabel('Epoch')\n",
    "plt.ylabel('Loss')\n",
    "plt.legend()\n",
    "plt.show()"
   ]
  },
  {
   "cell_type": "code",
   "execution_count": 41,
   "metadata": {},
   "outputs": [
    {
     "data": {
      "image/png": "[encoded data removed]",
      "text/plain": [
       "<Figure size 640x480 with 1 Axes>"
      ]
     },
     "metadata": {},
     "output_type": "display_data"
    }
   ],
   "source": [
    "# Memuat history dari file pickle\n",
    "with open('../be-sentiment-pk/fix/history_final.pkl', 'rb') as file:\n",
    "    history = pickle.load(file)\n",
    "\n",
    "# Membuat grafik loss\n",
    "import matplotlib.pyplot as plt\n",
    "\n",
    "# Plot loss\n",
    "plt.plot(history['accuracy'], label='Training Accuracy')\n",
    "plt.plot(history['val_accuracy'], label='Validation Accuracy')\n",
    "plt.title('Training and Validation Accuracy')\n",
    "plt.xlabel('Epoch')\n",
    "plt.ylabel('Accuracy')\n",
    "plt.legend()\n",
    "plt.show()"
   ]
  },
  {
   "cell_type": "markdown",
   "metadata": {},
   "source": [
    "#### **Load Model**"
   ]
  },
  {
   "cell_type": "code",
   "execution_count": 62,
   "metadata": {},
   "outputs": [],
   "source": [
    "model_lstm = load_model('../utils/sentiment.pkl')"
   ]
  },
  {
   "cell_type": "code",
   "execution_count": null,
   "metadata": {},
   "outputs": [],
   "source": [
    "# Ekstraksi fitur dari model LSTM untuk data latih dan uji\n",
    "X_train_features = model_lstm.predict(X_train)\n",
    "X_test_features = model_lstm.predict(X_test)\n",
    "\n",
    "# Inisialisasi dan latih model SVM\n",
    "model_svm = svm.SVC(C=1.5, kernel='linear', gamma=1)\n",
    "model_svm.fit(X_train_features, y_train2)\n",
    "\n",
    "# Prediksi menggunakan model gabungan LSTM-SVM\n",
    "y_pred = model_svm.predict(X_test_features)\n",
    "\n",
    "# Evaluasi\n",
    "print(\"Accuracy:\", accuracy_score(y_test2, y_pred))\n",
    "print(\"Classification Report:\\n\", classification_report(y_test2, y_pred))"
   ]
  },
  {
   "cell_type": "code",
   "execution_count": 34,
   "metadata": {},
   "outputs": [],
   "source": [
    "# model19 = load_model('./models/word2vec_bilstm/model_word2vec_bilstm.keras')\n",
    "model = load_model('../be-sentiment-pk/fix/model_final.keras')"
   ]
  },
  {
   "cell_type": "code",
   "execution_count": 35,
   "metadata": {},
   "outputs": [
    {
     "name": "stdout",
     "output_type": "stream",
     "text": [
      "\u001b[1m80/80\u001b[0m \u001b[32m━━━━━━━━━━━━━━━━━━━━\u001b[0m\u001b[37m\u001b[0m \u001b[1m2s\u001b[0m 11ms/step - accuracy: 0.9564 - loss: 0.1293\n",
      "Validation Loss: 0.14214162528514862\n",
      "Test Accuracy: 0.9562302827835083\n"
     ]
    }
   ],
   "source": [
    "loss19, accuracy19 = model.evaluate(X_test, y_test)\n",
    "print(f\"Validation Loss: {loss19}\")\n",
    "print(f\"Test Accuracy: {accuracy19}\")"
   ]
  },
  {
   "cell_type": "code",
   "execution_count": 66,
   "metadata": {},
   "outputs": [],
   "source": [
    "from sklearn.metrics import accuracy_score, classification_report\n",
    "from sklearn.metrics import accuracy_score, precision_score, recall_score, f1_score"
   ]
  },
  {
   "cell_type": "code",
   "execution_count": null,
   "metadata": {},
   "outputs": [],
   "source": [
    "# Evaluasi pada training set\n",
    "y_train_pred = model.predict(X_train)\n",
    "train_accuracy = accuracy_score(y_train, y_train_pred)\n",
    "print(\"Training Accuracy:\", train_accuracy)\n",
    "print(\"Training Classification Report:\")\n",
    "print(classification_report(y_train, y_train_pred))\n",
    "\n",
    "# Evaluasi pada testing set\n",
    "y_test_pred = model.predict(X_test)\n",
    "test_accuracy = accuracy_score(y_test, y_test_pred)\n",
    "print(\"Testing Accuracy:\", test_accuracy)\n",
    "print(\"Testing Classification Report:\")\n",
    "print(classification_report(y_test, y_test_pred))"
   ]
  },
  {
   "cell_type": "code",
   "execution_count": 69,
   "metadata": {},
   "outputs": [
    {
     "name": "stdout",
     "output_type": "stream",
     "text": [
      "\u001b[1m1/1\u001b[0m \u001b[32m━━━━━━━━━━━━━━━━━━━━\u001b[0m\u001b[37m\u001b[0m \u001b[1m0s\u001b[0m 306ms/step\n",
      "Text: tempat sampah tidak dapat digunakna\n",
      "Prediction: [0.9566494  0.03753969 0.00581088]\n",
      "Sentiment: negative\n",
      "Highest Score: 0.9566494226455688\n",
      "Score Negative: 0.9566494226455688\n",
      "Score Neutral: 0.037539687007665634\n",
      "Score Positive: 0.005810883361846209\n",
      "\n"
     ]
    }
   ],
   "source": [
    "import re\n",
    "\n",
    "# Function to preprocess text\n",
    "def preprocess_text(text):\n",
    "    # text = re.sub(r'\\bsampah\\b', 'sampahnya', text)\n",
    "    text = re.sub(r'\\blayak\\b', 'dapat', text)\n",
    "    text = casefolding(text)\n",
    "    text = text_normalize(text)\n",
    "    return text\n",
    "\n",
    "# Example usage\n",
    "feedback = input(\"Your Feedback:\")\n",
    "feedback_processed = preprocess_text(feedback)\n",
    "\n",
    "# Load tokenizer's configuration\n",
    "# with open('../be-sentiment-pk/models/asli_fix/tokenizer_config_w2v_bilstm_fix.pkl', 'rb') as f:\n",
    "# with open('../be-sentiment-pk/models/bilstm_fix/tokenizer_config_bilstm_fix3.pkl', 'rb') as f:\n",
    "with open('../be-sentiment-pk/fix/tokenizer_config_final.pkl', 'rb') as f:\n",
    "    tokenizer_config = pickle.load(f)\n",
    "\n",
    "# Recreate tokenizer\n",
    "tokenizer = Tokenizer(**tokenizer_config)\n",
    "\n",
    "# Load tokenizer's word index\n",
    "# with open('../be-sentiment-pk/models/bilstm_fix/tokenizer_word_index_bilstm_fix3.pkl', 'rb') as f:\n",
    "with open('../be-sentiment-pk/fix/tokenizer_word_index_final.pkl', 'rb') as f:\n",
    "    tokenizer.word_index = pickle.load(f)\n",
    "\n",
    "# Example new data to predict\n",
    "new_texts = [feedback_processed]\n",
    "\n",
    "# Tokenize new data\n",
    "sequences = tokenizer.texts_to_sequences(new_texts)\n",
    "\n",
    "# Padding sequences\n",
    "max_length = 100  # Adjust according to your model's max_length\n",
    "padded_sequences = pad_sequences(sequences, maxlen=max_length)\n",
    "\n",
    "# Load the saved model\n",
    "# model_nih = load_model('../be-sentiment-pk/models/bilstm_fix/best_model3.keras')\n",
    "model_nih = load_model('../be-sentiment-pk/fix/model_final.keras')\n",
    "\n",
    "# Perform prediction\n",
    "predictions = model_nih.predict(padded_sequences)\n",
    "\n",
    "# Example of printing predictions\n",
    "for text, prediction in zip(new_texts, predictions):\n",
    "    print(f'Text: {feedback_processed}')\n",
    "    print(f'Prediction: {prediction}')\n",
    "\n",
    "    # Find the index of the maximum value\n",
    "    if np.argmax(prediction) == 0:\n",
    "        print(\"Sentiment: negative\")\n",
    "    elif np.argmax(prediction) == 1:\n",
    "        print(\"Sentiment: neutral\")\n",
    "    elif np.argmax(prediction) == 2:\n",
    "        print(\"Sentiment: positive\")\n",
    "\n",
    "    # Find the maximum value in the prediction array\n",
    "    max_value = max(prediction)\n",
    "    print(f'Highest Score: {max_value}')\n",
    "\n",
    "    print(f'Score Negative: {prediction[0]}')\n",
    "    print(f'Score Neutral: {prediction[1]}')\n",
    "    print(f'Score Positive: {prediction[2]}')\n",
    "    print()  # For spacing between outputs\n"
   ]
  }
 ],
 "metadata": {
  "kernelspec": {
   "display_name": "nlp",
   "language": "python",
   "name": "python3"
  },
  "language_info": {
   "codemirror_mode": {
    "name": "ipython",
    "version": 3
   },
   "file_extension": ".py",
   "mimetype": "text/x-python",
   "name": "python",
   "nbconvert_exporter": "python",
   "pygments_lexer": "ipython3",
   "version": "3.10.14"
  }
 },
 "nbformat": 4,
 "nbformat_minor": 2
}
